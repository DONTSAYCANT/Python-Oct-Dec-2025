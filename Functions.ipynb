{
 "cells": [
  {
   "cell_type": "code",
   "execution_count": 2,
   "metadata": {},
   "outputs": [
    {
     "name": "stdout",
     "output_type": "stream",
     "text": [
      "Counter({'p': 1, 'y': 1, 't': 1, 'h': 1, 'o': 1, 'n': 1})\n"
     ]
    }
   ],
   "source": [
    "#\"pythnonp\"\n",
    "\n",
    "#{\"p\":2, \"y\":1, \"t\":1, \"h\":1, \"o\":1,\"n\":2}\n",
    "\n",
    "import collections\n",
    "\n",
    "print(collections.Counter(\"python\"))"
   ]
  },
  {
   "cell_type": "code",
   "execution_count": 8,
   "metadata": {},
   "outputs": [
    {
     "name": "stdout",
     "output_type": "stream",
     "text": [
      "{'a': 1}\n",
      "{'a': 1, 'b': 1}\n",
      "{'a': 2, 'b': 1}\n",
      "{'a': 2, 'b': 1, 'd': 1}\n",
      "{'a': 3, 'b': 1, 'd': 1}\n",
      "{'a': 3, 'b': 1, 'd': 1, 'c': 1}\n",
      "{'a': 3, 'b': 1, 'd': 1, 'c': 1, 'v': 1}\n",
      "{'a': 3, 'b': 1, 'd': 1, 'c': 1, 'v': 1, 'i': 1}\n",
      "{'a': 3, 'b': 1, 'd': 1, 'c': 1, 'v': 1, 'i': 1, 'o': 1}\n"
     ]
    }
   ],
   "source": [
    "string = \"abadacvio\"\n",
    "\n",
    "output_dict = {}\n",
    "\n",
    "for char in string:\n",
    "    if char in output_dict.keys():\n",
    "        output_dict[char] = output_dict[char] + 1\n",
    "    else:\n",
    "        output_dict[char] = 1\n",
    "    print(output_dict)"
   ]
  },
  {
   "cell_type": "code",
   "execution_count": null,
   "metadata": {},
   "outputs": [],
   "source": []
  },
  {
   "cell_type": "code",
   "execution_count": 4,
   "metadata": {},
   "outputs": [
    {
     "ename": "IndentationError",
     "evalue": "unexpected indent (1343011581.py, line 11)",
     "output_type": "error",
     "traceback": [
      "\u001b[1;36m  File \u001b[1;32m\"C:\\Users\\kanna\\AppData\\Local\\Temp\\ipykernel_17824\\1343011581.py\"\u001b[1;36m, line \u001b[1;32m11\u001b[0m\n\u001b[1;33m    Just you need to call the function\u001b[0m\n\u001b[1;37m    ^\u001b[0m\n\u001b[1;31mIndentationError\u001b[0m\u001b[1;31m:\u001b[0m unexpected indent\n"
     ]
    }
   ],
   "source": [
    "#Functions\n",
    "\n",
    "\n",
    "#Reducing number of lines in the code/program\n",
    "#\n",
    "#\n",
    "#\n",
    "\n",
    "\n",
    "#inbuilt function ===> function def is already available inside your installed package\n",
    "                        Just you need to call the function\n",
    "\n",
    "#user def function  ===> write function def (processs) and function call\n",
    "\n",
    "#function call  ===> Calling funtion defintiion for n times\n",
    "#function definition  ===> One time block which contains redudant code\n",
    "#function arguement ===> Input to the funtion defintiion\n",
    "#return ===> Output from function definition ===> defult none\n",
    "\n"
   ]
  },
  {
   "cell_type": "code",
   "execution_count": 9,
   "metadata": {},
   "outputs": [
    {
     "name": "stdout",
     "output_type": "stream",
     "text": [
      "6\n"
     ]
    }
   ],
   "source": [
    "str1 = \"python\"\n",
    "\n",
    "print(len(str1))"
   ]
  },
  {
   "cell_type": "code",
   "execution_count": null,
   "metadata": {},
   "outputs": [],
   "source": []
  },
  {
   "cell_type": "code",
   "execution_count": null,
   "metadata": {},
   "outputs": [],
   "source": [
    "[\"rock\", \"paper\", \"scissor\"]"
   ]
  },
  {
   "cell_type": "code",
   "execution_count": 1,
   "metadata": {},
   "outputs": [
    {
     "name": "stdout",
     "output_type": "stream",
     "text": [
      "18\n",
      "16\n",
      "7\n",
      "26\n"
     ]
    }
   ],
   "source": [
    "a = 10\n",
    "b = 8\n",
    "c = a + b\n",
    "print(c)\n",
    "\n",
    "a = 12\n",
    "b = 4\n",
    "c = a + b\n",
    "print(c)\n",
    "\n",
    "a = 16\n",
    "b = -9\n",
    "c = a + b\n",
    "print(c)\n",
    "\n",
    "a = 20\n",
    "b = 6\n",
    "c = a + b\n",
    "print(c)"
   ]
  },
  {
   "cell_type": "code",
   "execution_count": 2,
   "metadata": {},
   "outputs": [
    {
     "name": "stdout",
     "output_type": "stream",
     "text": [
      "18\n",
      "38\n",
      "26\n",
      "15\n",
      "15\n",
      "2\n"
     ]
    }
   ],
   "source": [
    "def add_marks(x,y):\n",
    "    return x + y\n",
    "\n",
    "def sub_marks(x,y):\n",
    "    return x - y\n",
    "\n",
    "print(add_marks(10,8))\n",
    "print(add_marks(20,18))\n",
    "print(add_marks(12,14))\n",
    "print(add_marks(-5,20))\n",
    "print(sub_marks(20,5))\n",
    "print(sub_marks(4,2))"
   ]
  },
  {
   "cell_type": "code",
   "execution_count": null,
   "metadata": {},
   "outputs": [],
   "source": [
    "def <function_name>(args):\n",
    "    <code1>\n",
    "    <code2>\n",
    "    return (default None)"
   ]
  },
  {
   "cell_type": "code",
   "execution_count": 1,
   "metadata": {},
   "outputs": [
    {
     "name": "stdout",
     "output_type": "stream",
     "text": [
      "hello\n",
      "18\n",
      "hello\n",
      "38\n",
      "hello\n",
      "39\n",
      "None\n"
     ]
    }
   ],
   "source": [
    "def add_marks(x,y):\n",
    "    print(\"hello\")\n",
    "    print(x + y)\n",
    "    \n",
    "add_marks(10,8)\n",
    "add_marks(20,18)\n",
    "print(add_marks(20,19))"
   ]
  },
  {
   "cell_type": "code",
   "execution_count": 2,
   "metadata": {},
   "outputs": [
    {
     "name": "stdout",
     "output_type": "stream",
     "text": [
      "18\n",
      "38\n",
      "26\n"
     ]
    }
   ],
   "source": [
    "def add_marks(x,y):\n",
    "    return x + y\n",
    "    print(\"hello\")\n",
    "    \n",
    "print(add_marks(10,8))\n",
    "print(add_marks(20,18))\n",
    "print(add_marks(12,14))"
   ]
  },
  {
   "cell_type": "code",
   "execution_count": 7,
   "metadata": {},
   "outputs": [
    {
     "name": "stdout",
     "output_type": "stream",
     "text": [
      "even\n",
      "odd\n"
     ]
    }
   ],
   "source": [
    "def even_odd_check(x):\n",
    "    if x % 2 == 0:\n",
    "        return \"even\"\n",
    "    else:\n",
    "        return \"odd\"\n",
    "    \n",
    "print(even_odd_check(8))\n",
    "print(even_odd_check(7))"
   ]
  },
  {
   "cell_type": "code",
   "execution_count": null,
   "metadata": {},
   "outputs": [],
   "source": [
    "def even_odd_check(x):\n",
    "    if x % 2 == 0:\n",
    "        return \"even\"\n",
    "    else:\n",
    "        return \"odd\"\n",
    "    \n",
    "print(even_odd_check(8))\n",
    "print(even_odd_check(7))"
   ]
  },
  {
   "cell_type": "code",
   "execution_count": null,
   "metadata": {},
   "outputs": [],
   "source": [
    "#inbuilt function\n",
    "\n",
    "print\n",
    "type\n",
    "int\n",
    "float\n",
    "bool\n",
    "str\n",
    "input\n",
    "list\n",
    "tuple\n",
    "set\n",
    "dict\n",
    "zip\n",
    "len\n",
    "sum\n",
    "min\n",
    "max\n",
    "del\n",
    "\n",
    "#any \n",
    "\n",
    "#all\n",
    "\n",
    "#ord\n",
    "#chr\n",
    "\n",
    "#https://www.w3schools.com/python/python_ref_functions.asp\n",
    "\n"
   ]
  },
  {
   "cell_type": "code",
   "execution_count": 8,
   "metadata": {},
   "outputs": [
    {
     "name": "stdout",
     "output_type": "stream",
     "text": [
      "[10, 6, 7, 4, 3, 5]\n"
     ]
    }
   ],
   "source": [
    "a = [5,6,7,4,3,10]\n",
    "\n",
    "a.append(a[0])\n",
    "a.pop(0)\n",
    "a.insert(0,a[-2])\n",
    "a.pop(-2)\n",
    "print(a)"
   ]
  },
  {
   "cell_type": "code",
   "execution_count": 10,
   "metadata": {},
   "outputs": [
    {
     "name": "stdout",
     "output_type": "stream",
     "text": [
      "[0, 1, 1, 2, 3, 5, 8]\n"
     ]
    }
   ],
   "source": [
    "li = [0, 1]\n",
    "\n",
    "for i in range(5):\n",
    "    li.append(li[-1] + li[-2])\n",
    "    \n",
    "print(li)"
   ]
  },
  {
   "cell_type": "code",
   "execution_count": 4,
   "metadata": {},
   "outputs": [
    {
     "name": "stdout",
     "output_type": "stream",
     "text": [
      "[0, 1, 1, 2, 3, 5, 8, 13, 21, 34, 55, 89]\n",
      "[0, 1, 1, 2, 3, 5, 8, 13, 21, 34]\n",
      "[0, 1, 1, 2, 3, 5, 8, 13, 21]\n"
     ]
    }
   ],
   "source": [
    "def fib(n):\n",
    "    li = [0, 1]\n",
    "    for i in range(n):\n",
    "        li.append(li[-1] + li[-2])\n",
    "    return li\n",
    "    \n",
    "print(fib(10))\n",
    "print(fib(8))\n",
    "print(fib(7))"
   ]
  },
  {
   "cell_type": "code",
   "execution_count": 11,
   "metadata": {},
   "outputs": [
    {
     "name": "stdout",
     "output_type": "stream",
     "text": [
      "1\n",
      "2\n",
      "3\n",
      "5\n",
      "8\n"
     ]
    }
   ],
   "source": [
    "a = 0\n",
    "b = 1\n",
    "\n",
    "for i in range(5):\n",
    "    c = a + b\n",
    "    a = b\n",
    "    b = c\n",
    "    print(c)\n"
   ]
  },
  {
   "cell_type": "code",
   "execution_count": null,
   "metadata": {},
   "outputs": [],
   "source": [
    "0 1\n",
    "0 1 1"
   ]
  },
  {
   "cell_type": "code",
   "execution_count": null,
   "metadata": {},
   "outputs": [],
   "source": [
    "a = 15\n",
    "\n",
    "15 ==> 2,3,4,5,6,7,8,9,10,11,12,13,14,\n",
    "\n",
    "17 ==> 2.....16\n",
    "\n",
    "\n",
    "15 // 2 \n",
    "15 // 3\n",
    "15 //4\n",
    "15 // 5\n",
    "\n",
    "\n",
    "\n",
    "2 ==> prime  1,2 \n",
    "3 ===> prime 1,3\n",
    "4 ==> non prime 1,2,4\n",
    "5 ===> prime 1,5\n",
    "6 ===> not prime 1,2,3,6\n",
    "7 ==> prime 1,7\n",
    "8 ===> not prime 1,2,4,8\n",
    "9 ==> not prime 1,3,9"
   ]
  },
  {
   "cell_type": "code",
   "execution_count": 11,
   "metadata": {},
   "outputs": [
    {
     "name": "stdout",
     "output_type": "stream",
     "text": [
      "please enter a number: 32\n",
      "Non prime\n"
     ]
    }
   ],
   "source": [
    "def prime(n):\n",
    "    \n",
    "    for i in range(2,n-1):\n",
    "        if n % i == 0:\n",
    "            print(\"Non prime\")\n",
    "            break\n",
    "    else:\n",
    "        print(\"prime: \", n)\n",
    "\n",
    "        \n",
    "val = int(input(\"please enter a number: \"))\n",
    "prime(val)\n",
    "\n"
   ]
  },
  {
   "cell_type": "code",
   "execution_count": null,
   "metadata": {},
   "outputs": [],
   "source": []
  },
  {
   "cell_type": "code",
   "execution_count": 5,
   "metadata": {},
   "outputs": [
    {
     "name": "stdout",
     "output_type": "stream",
     "text": [
      "Enter the first number50\n",
      "Enter the last number: 100\n",
      "non prime:  50\n",
      "non prime:  51\n",
      "non prime:  52\n",
      "prime:  53\n",
      "non prime:  54\n",
      "non prime:  55\n",
      "non prime:  56\n",
      "non prime:  57\n",
      "non prime:  58\n",
      "prime:  59\n",
      "non prime:  60\n",
      "prime:  61\n",
      "non prime:  62\n",
      "non prime:  63\n",
      "non prime:  64\n",
      "non prime:  65\n",
      "non prime:  66\n",
      "prime:  67\n",
      "non prime:  68\n",
      "non prime:  69\n",
      "non prime:  70\n",
      "prime:  71\n",
      "non prime:  72\n",
      "prime:  73\n",
      "non prime:  74\n",
      "non prime:  75\n",
      "non prime:  76\n",
      "non prime:  77\n",
      "non prime:  78\n",
      "prime:  79\n",
      "non prime:  80\n",
      "non prime:  81\n",
      "non prime:  82\n",
      "prime:  83\n",
      "non prime:  84\n",
      "non prime:  85\n",
      "non prime:  86\n",
      "non prime:  87\n",
      "non prime:  88\n",
      "prime:  89\n",
      "non prime:  90\n",
      "non prime:  91\n",
      "non prime:  92\n",
      "non prime:  93\n",
      "non prime:  94\n",
      "non prime:  95\n",
      "non prime:  96\n",
      "prime:  97\n",
      "non prime:  98\n",
      "non prime:  99\n"
     ]
    }
   ],
   "source": [
    "a = int(input(\"Enter the first number\"))\n",
    "b = int(input(\"Enter the last number: \"))\n",
    "\n",
    "\n",
    "for i in range(a,b):\n",
    "    for j in range(2,i):\n",
    "        if i % j == 0:\n",
    "            print(\"non prime: \", i)\n",
    "            break\n",
    "    else:\n",
    "        print(\"prime: \", i)\n",
    "    "
   ]
  },
  {
   "cell_type": "code",
   "execution_count": 17,
   "metadata": {},
   "outputs": [
    {
     "name": "stdout",
     "output_type": "stream",
     "text": [
      "prime:  19\n"
     ]
    }
   ],
   "source": [
    "val = 19\n",
    "\n",
    "for j in range(2,val):\n",
    "    if val % j == 0:\n",
    "        print(\"non prime: \", val)\n",
    "        break\n",
    "else:\n",
    "    print(\"prime: \", val)"
   ]
  },
  {
   "cell_type": "code",
   "execution_count": null,
   "metadata": {},
   "outputs": [],
   "source": [
    "15 ==> prime >?\n",
    "\n",
    "\n",
    "0-15 ==> one by one\n",
    "\n",
    "\n",
    "2 ===> 2 %2 ==>\n",
    "3 ==> 3 (2,3) ==>\n",
    "4 ===> "
   ]
  },
  {
   "cell_type": "code",
   "execution_count": 18,
   "metadata": {},
   "outputs": [
    {
     "name": "stdout",
     "output_type": "stream",
     "text": [
      "Enter the first number45\n",
      "Enter the last number: 90\n",
      "non prime:  45\n",
      "non prime:  46\n",
      "prime:  47\n",
      "non prime:  48\n",
      "non prime:  49\n",
      "non prime:  50\n",
      "non prime:  51\n",
      "non prime:  52\n",
      "prime:  53\n",
      "non prime:  54\n",
      "non prime:  55\n",
      "non prime:  56\n",
      "non prime:  57\n",
      "non prime:  58\n",
      "prime:  59\n",
      "non prime:  60\n",
      "prime:  61\n",
      "non prime:  62\n",
      "non prime:  63\n",
      "non prime:  64\n",
      "non prime:  65\n",
      "non prime:  66\n",
      "prime:  67\n",
      "non prime:  68\n",
      "non prime:  69\n",
      "non prime:  70\n",
      "prime:  71\n",
      "non prime:  72\n",
      "prime:  73\n",
      "non prime:  74\n",
      "non prime:  75\n",
      "non prime:  76\n",
      "non prime:  77\n",
      "non prime:  78\n",
      "prime:  79\n",
      "non prime:  80\n",
      "non prime:  81\n",
      "non prime:  82\n",
      "prime:  83\n",
      "non prime:  84\n",
      "non prime:  85\n",
      "non prime:  86\n",
      "non prime:  87\n",
      "non prime:  88\n",
      "prime:  89\n"
     ]
    }
   ],
   "source": [
    "a = int(input(\"Enter the first number\"))\n",
    "b = int(input(\"Enter the last number: \"))\n",
    "\n",
    "\n",
    "for i in range(a,b):\n",
    "    for j in range(2,i//2):\n",
    "        if i % j == 0:\n",
    "            print(\"non prime: \", i)\n",
    "            break\n",
    "    else:\n",
    "        print(\"prime: \", i)"
   ]
  },
  {
   "cell_type": "code",
   "execution_count": null,
   "metadata": {},
   "outputs": [],
   "source": [
    "24 ===> 1,2,3,4,6,8,12,24\n",
    "\n",
    "24 ===> 2,3,4,5,6........23\n",
    "\n",
    "24 ===> 2,3,4,5,....12\n",
    "\n",
    "for ==> n"
   ]
  },
  {
   "cell_type": "code",
   "execution_count": 25,
   "metadata": {},
   "outputs": [
    {
     "name": "stdout",
     "output_type": "stream",
     "text": [
      "[8, 7, 6, 5, 4, 3, 2]\n",
      "3\n"
     ]
    }
   ],
   "source": [
    "Li = [5,6,7,4,3,2,8]\n",
    "\n",
    "for i in range(len(Li)):\n",
    "    for j in range(i+1, len(Li)):\n",
    "        if Li[i] < Li[j]:\n",
    "            Li[i], Li[j] = Li[j], Li[i]\n",
    "print(Li)\n",
    "print(Li[-2])"
   ]
  },
  {
   "cell_type": "code",
   "execution_count": 19,
   "metadata": {},
   "outputs": [
    {
     "name": "stdout",
     "output_type": "stream",
     "text": [
      "5\n",
      "10\n"
     ]
    }
   ],
   "source": [
    "a = 10\n",
    "b = 5\n",
    "\n",
    "a,b = b,a\n",
    "print(a)\n",
    "print(b)"
   ]
  },
  {
   "cell_type": "code",
   "execution_count": 15,
   "metadata": {},
   "outputs": [
    {
     "name": "stdout",
     "output_type": "stream",
     "text": [
      "Num:47\n",
      "prime\n"
     ]
    }
   ],
   "source": [
    "li1 = []\n",
    "val = int(input(\"Num:\"))\n",
    "\n",
    "for i in range(2,val-1):\n",
    "    if val % i == 0:\n",
    "        li1.append(i)\n",
    "        \n",
    "if len(li1) > 0:\n",
    "    print(\"Multipliers\", li1)\n",
    "    print(\"Non prime\")\n",
    "else:\n",
    "    print(\"prime\")\n",
    "    \n",
    "    \n",
    "#what is prime number:\n",
    "#1 and itself \n",
    "\n",
    "#10\n",
    "#2 to 9\n",
    "\n",
    "#23\n",
    "#2 to 22"
   ]
  },
  {
   "cell_type": "code",
   "execution_count": 5,
   "metadata": {},
   "outputs": [
    {
     "name": "stdout",
     "output_type": "stream",
     "text": [
      "Enter a number:10\n",
      "Multipliers [2, 5]\n",
      "Non prime\n"
     ]
    }
   ],
   "source": [
    "li1 = []\n",
    "val = int(input(\"Enter a number:\"))\n",
    "\n",
    "for divisor in range(2,val):\n",
    "    if val % divisor == 0:\n",
    "        li1.append(divisor)\n",
    "\n",
    "        \n",
    "if len(li1) > 0:\n",
    "    print(\"Multipliers\", li1)\n",
    "    print(\"Non prime\")\n",
    "else:\n",
    "    print(\"prime\")\n",
    "    "
   ]
  },
  {
   "cell_type": "code",
   "execution_count": 1,
   "metadata": {},
   "outputs": [
    {
     "name": "stdout",
     "output_type": "stream",
     "text": [
      "printing current value 10\n",
      "printing current value 9\n",
      "printing current value 8\n",
      "printing current value 7\n",
      "printing current value 6\n",
      "printing current value 5\n",
      "printing current value 4\n",
      "printing current value 3\n",
      "printing current value 2\n",
      "printing current value 1\n",
      "3628800\n"
     ]
    }
   ],
   "source": [
    "#factor => 5 ! ==> 5 * 4 * 3 * 2 *1\n",
    "\n",
    "\n",
    "def factorial(n):\n",
    "    print(\"printing current value\",n)\n",
    "    if n == 1:\n",
    "        return 1\n",
    "    return n * factorial(n-1)\n",
    "    #10 * factorial(9)\n",
    "    #10 * 9 * factorial(8)\n",
    "    #10 * 9 * 8 * 7 * 6 * 5 * 4 * 3 * 2 * 1\n",
    "\n",
    "print(factorial(10))"
   ]
  },
  {
   "cell_type": "code",
   "execution_count": 20,
   "metadata": {},
   "outputs": [
    {
     "name": "stdout",
     "output_type": "stream",
     "text": [
      "i (5, 6)\n",
      "j:  (5, 7)\n",
      "(5, 6) (5, 7)\n",
      "j:  (5, 8)\n",
      "(5, 6) (5, 8)\n",
      "j:  (6, 9)\n",
      "j:  (6, 10)\n",
      "j:  (7, 1)\n",
      "i (5, 7)\n",
      "j:  (5, 8)\n",
      "(5, 7) (5, 8)\n",
      "j:  (6, 9)\n",
      "j:  (6, 10)\n",
      "j:  (7, 1)\n",
      "i (5, 8)\n",
      "j:  (6, 9)\n",
      "j:  (6, 10)\n",
      "j:  (7, 1)\n",
      "i (6, 9)\n",
      "j:  (6, 10)\n",
      "(6, 9) (6, 10)\n",
      "j:  (7, 1)\n",
      "i (6, 10)\n",
      "j:  (7, 1)\n",
      "i (7, 1)\n"
     ]
    }
   ],
   "source": [
    "list1 = [(5,6) , (5,7) , (5,8), (6,9) , (6,10) , (7,1)]\n",
    "final = []\n",
    "\n",
    "\n",
    "#Output: [(5,6,7,8,9), (6,9,10), (7,1)]\n",
    "\n",
    "\n",
    "for i in range(len(list1)):\n",
    "    print(\"i\",list1[i])\n",
    "    for j in range(i+1, len(list1)):\n",
    "        print(\"j: \",list1[j])\n",
    "        if list1[i][0] ==  list1[j][0]:\n",
    "              \n",
    "            "
   ]
  },
  {
   "cell_type": "code",
   "execution_count": 21,
   "metadata": {},
   "outputs": [
    {
     "name": "stdout",
     "output_type": "stream",
     "text": [
      "please enter a number10\n",
      "0\n",
      "1\n",
      "1\n",
      "2\n",
      "3\n",
      "5\n",
      "8\n",
      "13\n",
      "21\n",
      "34\n"
     ]
    }
   ],
   "source": [
    "\n",
    "def fib(n):\n",
    "    if n <= 1:\n",
    "        return n\n",
    "    else:\n",
    "        return fib(n-1) + fib(n-2)\n",
    "        #n = 4\n",
    "        #return fib(3) + fib(2)\n",
    "        #retrun 1 + 1\n",
    "\n",
    "num = int(input(\"please enter a number\"))\n",
    "\n",
    "for i in range(num): #0-9\n",
    "    print(fib(i))"
   ]
  },
  {
   "cell_type": "code",
   "execution_count": 24,
   "metadata": {},
   "outputs": [
    {
     "name": "stdout",
     "output_type": "stream",
     "text": [
      "[0, 1]\n",
      "[0, 1, 1]\n",
      "[0, 1, 1, 2]\n",
      "[0, 1, 1, 2, 3]\n",
      "[0, 1, 1, 2, 3, 5]\n",
      "[0, 1, 1, 2, 3, 5, 8]\n",
      "[0, 1, 1, 2, 3, 5, 8, 13]\n",
      "[0, 1, 1, 2, 3, 5, 8, 13, 21]\n",
      "[0, 1, 1, 2, 3, 5, 8, 13, 21, 34]\n",
      "[0, 1, 1, 2, 3, 5, 8, 13, 21, 34, 55]\n",
      "[0, 1, 1, 2, 3, 5, 8, 13, 21, 34, 55, 89]\n"
     ]
    }
   ],
   "source": [
    "fib = [0,1]\n",
    "\n",
    "\n",
    "for i in range(10):\n",
    "    print(fib)\n",
    "    fib.append(fib[-1] + fib[-2])\n",
    "    \n",
    "print(fib)"
   ]
  },
  {
   "cell_type": "code",
   "execution_count": null,
   "metadata": {},
   "outputs": [],
   "source": []
  }
 ],
 "metadata": {
  "kernelspec": {
   "display_name": "Python 3 (ipykernel)",
   "language": "python",
   "name": "python3"
  },
  "language_info": {
   "codemirror_mode": {
    "name": "ipython",
    "version": 3
   },
   "file_extension": ".py",
   "mimetype": "text/x-python",
   "name": "python",
   "nbconvert_exporter": "python",
   "pygments_lexer": "ipython3",
   "version": "3.9.13"
  }
 },
 "nbformat": 4,
 "nbformat_minor": 4
}
