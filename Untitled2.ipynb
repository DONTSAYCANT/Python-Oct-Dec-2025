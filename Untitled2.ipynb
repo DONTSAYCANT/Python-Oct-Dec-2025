{
 "cells": [
  {
   "cell_type": "code",
   "execution_count": 17,
   "id": "2825d378",
   "metadata": {},
   "outputs": [
    {
     "name": "stdout",
     "output_type": "stream",
     "text": [
      "['', 'a', 'ab', 'abc', '', 'b', 'bc', 'bca', '', 'c', 'ca', 'cab', '', 'a', 'ab', 'abc', '', 'b', 'bc', 'bca', '', 'c', 'ca', 'cab', '', 'a', 'ab', 'abc', 'abcd', '', 'b', 'bc', 'bcd', '', 'c', 'cd', '', 'd', '', 'd', '', 'd', '', 'd', '']\n"
     ]
    }
   ],
   "source": [
    "#input string :  s='abcabcabcddddd'\n",
    "#output is : l=[abc,abc,abcd] #Not predicted\n",
    "\n",
    "\n",
    "val = \"abcabcabcddddd\"\n",
    "temp = []\n",
    "\n",
    "for i in range(len(val)):\n",
    "    for j in range(i, len(val)):\n",
    "        if (len(list(val[i:j])) == len(set(val[i:j]))):\n",
    "            temp.append(val[i:j])\n",
    "\n",
    "            \n",
    "print(temp)\n",
    "            "
   ]
  },
  {
   "cell_type": "code",
   "execution_count": null,
   "id": "91655a81",
   "metadata": {},
   "outputs": [],
   "source": []
  },
  {
   "cell_type": "code",
   "execution_count": 14,
   "id": "1cfa5cf1",
   "metadata": {},
   "outputs": [
    {
     "name": "stdout",
     "output_type": "stream",
     "text": [
      "['a', 'b', 'c', 'a']\n",
      "{'a', 'c', 'b'}\n"
     ]
    }
   ],
   "source": [
    "val = \"abca\"\n",
    "\n",
    "print(list(val))\n",
    "print(set(val))"
   ]
  },
  {
   "cell_type": "code",
   "execution_count": 18,
   "id": "0b9232ff",
   "metadata": {},
   "outputs": [
    {
     "name": "stdout",
     "output_type": "stream",
     "text": [
      "\n"
     ]
    }
   ],
   "source": [
    "c = \"ssssssssssss\"\n",
    "\n",
    "print(c[-5:-5:5])"
   ]
  },
  {
   "cell_type": "code",
   "execution_count": null,
   "id": "b0cf63ec",
   "metadata": {},
   "outputs": [],
   "source": []
  }
 ],
 "metadata": {
  "kernelspec": {
   "display_name": "Python 3 (ipykernel)",
   "language": "python",
   "name": "python3"
  },
  "language_info": {
   "codemirror_mode": {
    "name": "ipython",
    "version": 3
   },
   "file_extension": ".py",
   "mimetype": "text/x-python",
   "name": "python",
   "nbconvert_exporter": "python",
   "pygments_lexer": "ipython3",
   "version": "3.9.13"
  }
 },
 "nbformat": 4,
 "nbformat_minor": 5
}
